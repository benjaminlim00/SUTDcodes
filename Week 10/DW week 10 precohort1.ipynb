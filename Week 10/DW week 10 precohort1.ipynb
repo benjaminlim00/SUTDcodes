{
 "cells": [
  {
   "cell_type": "code",
   "execution_count": 5,
   "metadata": {
    "collapsed": true,
    "scrolled": true
   },
   "outputs": [],
   "source": [
    "a = 10\n",
    "    "
   ]
  },
  {
   "cell_type": "code",
   "execution_count": 6,
   "metadata": {
    "collapsed": true
   },
   "outputs": [],
   "source": [
    "b =20\n",
    "c = 30"
   ]
  },
  {
   "cell_type": "code",
   "execution_count": 7,
   "metadata": {
    "collapsed": true
   },
   "outputs": [],
   "source": [
    "import numpy as np\n",
    "import matplotlib.pyplot as plt\n",
    "from matplotlib.colors import ListedColormap\n",
    "from sklearn import neighbors, datasets"
   ]
  },
  {
   "cell_type": "code",
   "execution_count": 8,
   "metadata": {
    "collapsed": true
   },
   "outputs": [],
   "source": [
    "bobj = datasets.load_breast_cancer()"
   ]
  },
  {
   "cell_type": "code",
   "execution_count": 9,
   "metadata": {},
   "outputs": [
    {
     "name": "stdout",
     "output_type": "stream",
     "text": [
      "Breast Cancer Wisconsin (Diagnostic) Database\n",
      "=============================================\n",
      "\n",
      "Notes\n",
      "-----\n",
      "Data Set Characteristics:\n",
      "    :Number of Instances: 569\n",
      "\n",
      "    :Number of Attributes: 30 numeric, predictive attributes and the class\n",
      "\n",
      "    :Attribute Information:\n",
      "        - radius (mean of distances from center to points on the perimeter)\n",
      "        - texture (standard deviation of gray-scale values)\n",
      "        - perimeter\n",
      "        - area\n",
      "        - smoothness (local variation in radius lengths)\n",
      "        - compactness (perimeter^2 / area - 1.0)\n",
      "        - concavity (severity of concave portions of the contour)\n",
      "        - concave points (number of concave portions of the contour)\n",
      "        - symmetry \n",
      "        - fractal dimension (\"coastline approximation\" - 1)\n",
      "\n",
      "        The mean, standard error, and \"worst\" or largest (mean of the three\n",
      "        largest values) of these features were computed for each image,\n",
      "        resulting in 30 features.  For instance, field 3 is Mean Radius, field\n",
      "        13 is Radius SE, field 23 is Worst Radius.\n",
      "\n",
      "        - class:\n",
      "                - WDBC-Malignant\n",
      "                - WDBC-Benign\n",
      "\n",
      "    :Summary Statistics:\n",
      "\n",
      "    ===================================== ====== ======\n",
      "                                           Min    Max\n",
      "    ===================================== ====== ======\n",
      "    radius (mean):                        6.981  28.11\n",
      "    texture (mean):                       9.71   39.28\n",
      "    perimeter (mean):                     43.79  188.5\n",
      "    area (mean):                          143.5  2501.0\n",
      "    smoothness (mean):                    0.053  0.163\n",
      "    compactness (mean):                   0.019  0.345\n",
      "    concavity (mean):                     0.0    0.427\n",
      "    concave points (mean):                0.0    0.201\n",
      "    symmetry (mean):                      0.106  0.304\n",
      "    fractal dimension (mean):             0.05   0.097\n",
      "    radius (standard error):              0.112  2.873\n",
      "    texture (standard error):             0.36   4.885\n",
      "    perimeter (standard error):           0.757  21.98\n",
      "    area (standard error):                6.802  542.2\n",
      "    smoothness (standard error):          0.002  0.031\n",
      "    compactness (standard error):         0.002  0.135\n",
      "    concavity (standard error):           0.0    0.396\n",
      "    concave points (standard error):      0.0    0.053\n",
      "    symmetry (standard error):            0.008  0.079\n",
      "    fractal dimension (standard error):   0.001  0.03\n",
      "    radius (worst):                       7.93   36.04\n",
      "    texture (worst):                      12.02  49.54\n",
      "    perimeter (worst):                    50.41  251.2\n",
      "    area (worst):                         185.2  4254.0\n",
      "    smoothness (worst):                   0.071  0.223\n",
      "    compactness (worst):                  0.027  1.058\n",
      "    concavity (worst):                    0.0    1.252\n",
      "    concave points (worst):               0.0    0.291\n",
      "    symmetry (worst):                     0.156  0.664\n",
      "    fractal dimension (worst):            0.055  0.208\n",
      "    ===================================== ====== ======\n",
      "\n",
      "    :Missing Attribute Values: None\n",
      "\n",
      "    :Class Distribution: 212 - Malignant, 357 - Benign\n",
      "\n",
      "    :Creator:  Dr. William H. Wolberg, W. Nick Street, Olvi L. Mangasarian\n",
      "\n",
      "    :Donor: Nick Street\n",
      "\n",
      "    :Date: November, 1995\n",
      "\n",
      "This is a copy of UCI ML Breast Cancer Wisconsin (Diagnostic) datasets.\n",
      "https://goo.gl/U2Uwz2\n",
      "\n",
      "Features are computed from a digitized image of a fine needle\n",
      "aspirate (FNA) of a breast mass.  They describe\n",
      "characteristics of the cell nuclei present in the image.\n",
      "\n",
      "Separating plane described above was obtained using\n",
      "Multisurface Method-Tree (MSM-T) [K. P. Bennett, \"Decision Tree\n",
      "Construction Via Linear Programming.\" Proceedings of the 4th\n",
      "Midwest Artificial Intelligence and Cognitive Science Society,\n",
      "pp. 97-101, 1992], a classification method which uses linear\n",
      "programming to construct a decision tree.  Relevant features\n",
      "were selected using an exhaustive search in the space of 1-4\n",
      "features and 1-3 separating planes.\n",
      "\n",
      "The actual linear program used to obtain the separating plane\n",
      "in the 3-dimensional space is that described in:\n",
      "[K. P. Bennett and O. L. Mangasarian: \"Robust Linear\n",
      "Programming Discrimination of Two Linearly Inseparable Sets\",\n",
      "Optimization Methods and Software 1, 1992, 23-34].\n",
      "\n",
      "This database is also available through the UW CS ftp server:\n",
      "\n",
      "ftp ftp.cs.wisc.edu\n",
      "cd math-prog/cpo-dataset/machine-learn/WDBC/\n",
      "\n",
      "References\n",
      "----------\n",
      "   - W.N. Street, W.H. Wolberg and O.L. Mangasarian. Nuclear feature extraction \n",
      "     for breast tumor diagnosis. IS&T/SPIE 1993 International Symposium on \n",
      "     Electronic Imaging: Science and Technology, volume 1905, pages 861-870,\n",
      "     San Jose, CA, 1993.\n",
      "   - O.L. Mangasarian, W.N. Street and W.H. Wolberg. Breast cancer diagnosis and \n",
      "     prognosis via linear programming. Operations Research, 43(4), pages 570-577, \n",
      "     July-August 1995.\n",
      "   - W.H. Wolberg, W.N. Street, and O.L. Mangasarian. Machine learning techniques\n",
      "     to diagnose breast cancer from fine-needle aspirates. Cancer Letters 77 (1994) \n",
      "     163-171.\n",
      "\n"
     ]
    }
   ],
   "source": [
    "print(bobj.DESCR)"
   ]
  },
  {
   "cell_type": "code",
   "execution_count": 10,
   "metadata": {},
   "outputs": [
    {
     "name": "stdout",
     "output_type": "stream",
     "text": [
      "['mean radius' 'mean texture' 'mean perimeter' 'mean area'\n",
      " 'mean smoothness' 'mean compactness' 'mean concavity'\n",
      " 'mean concave points' 'mean symmetry' 'mean fractal dimension'\n",
      " 'radius error' 'texture error' 'perimeter error' 'area error'\n",
      " 'smoothness error' 'compactness error' 'concavity error'\n",
      " 'concave points error' 'symmetry error' 'fractal dimension error'\n",
      " 'worst radius' 'worst texture' 'worst perimeter' 'worst area'\n",
      " 'worst smoothness' 'worst compactness' 'worst concavity'\n",
      " 'worst concave points' 'worst symmetry' 'worst fractal dimension']\n"
     ]
    }
   ],
   "source": [
    "print(bobj.feature_names)"
   ]
  },
  {
   "cell_type": "code",
   "execution_count": 11,
   "metadata": {},
   "outputs": [
    {
     "name": "stdout",
     "output_type": "stream",
     "text": [
      "['malignant' 'benign']\n"
     ]
    }
   ],
   "source": [
    "print(bobj.target_names)"
   ]
  },
  {
   "cell_type": "code",
   "execution_count": 12,
   "metadata": {},
   "outputs": [
    {
     "name": "stdout",
     "output_type": "stream",
     "text": [
      "(569, 30)\n"
     ]
    }
   ],
   "source": [
    "print(bobj.data.shape)"
   ]
  },
  {
   "cell_type": "code",
   "execution_count": 13,
   "metadata": {},
   "outputs": [
    {
     "name": "stdout",
     "output_type": "stream",
     "text": [
      "mean texture\n"
     ]
    }
   ],
   "source": [
    "col_ind = 1\n",
    "print(bobj.feature_names[col_ind])"
   ]
  },
  {
   "cell_type": "code",
   "execution_count": 14,
   "metadata": {},
   "outputs": [
    {
     "name": "stdout",
     "output_type": "stream",
     "text": [
      "[10.38 17.77 21.25 20.38 14.34 15.7  19.98 20.83 21.82 24.04 23.24 17.89\n",
      " 24.8  23.95 22.61 27.54 20.13 20.68 22.15 14.36 15.71 12.44 14.26 23.04\n",
      " 21.38 16.4  21.53 20.25 25.27 15.05 25.11 18.7  23.98 26.47 17.88 21.59\n",
      " 21.72 18.42 25.2  20.82 21.58 21.35 24.81 20.28 21.81 17.6  16.84 18.66\n",
      " 14.63 22.3  21.6  16.34 18.24 18.7  22.02 18.75 18.57 21.59 19.31 11.79\n",
      " 14.88 20.98 22.15 13.86 23.84 23.94 21.01 19.04 17.33 16.49 21.31 14.64\n",
      " 24.52 15.79 16.52 19.65 10.94 16.15 23.97 18.   20.97 15.86 24.91 26.29\n",
      " 15.65 18.52 21.46 24.59 21.8  15.24 24.02 22.76 14.76 18.3  19.83 23.03\n",
      " 17.84 19.94 12.84 19.77 24.98 13.43 20.52 19.4  19.29 15.56 18.33 18.54\n",
      " 19.67 21.26 16.99 20.76 19.65 20.19 15.83 21.53 15.76 16.67 22.91 20.01\n",
      " 10.82 17.12 20.2  10.89 16.39 17.21 24.69 18.91 16.39 25.12 13.29 19.48\n",
      " 21.54 13.93 21.91 22.47 16.67 15.39 17.57 13.39 11.97 18.05 17.31 15.92\n",
      " 14.97 14.65 16.58 18.77 15.18 17.91 20.78 20.7  15.34 13.08 15.34 17.94\n",
      " 20.74 19.46 12.74 12.96 20.18 15.94 18.15 22.22 22.04 19.76  9.71 18.8\n",
      " 24.68 16.95 12.39 19.63 11.89 14.71 15.15 14.45 18.06 20.11 22.22 13.06\n",
      " 21.87 26.57 20.31 14.92 22.41 15.11 18.58 17.19 17.39 15.9  23.12 21.41\n",
      " 18.22 26.86 23.21 16.33 22.29 21.84 22.49 20.22 19.56 19.32 26.67 23.75\n",
      " 18.6  16.68 17.27 20.26 22.54 12.91 22.14 18.94 18.47 25.56 23.81 16.93\n",
      " 18.35 17.48 21.56 32.47 13.16 13.9  17.53 20.25 17.02 13.47 15.46 15.51\n",
      " 23.97 22.33 19.08 27.08 33.81 27.81 15.91 21.25 26.97 21.46 27.85 39.28\n",
      " 15.6  15.04 18.19 23.77 23.5  19.86 17.43 14.11 25.22 14.93 23.56 18.45\n",
      " 19.82 17.08 19.33 17.05 28.77 17.27 23.2  33.56 27.06 23.06 22.13 19.38\n",
      " 22.07 31.12 18.95 21.84 16.21 20.39 16.82 13.04 20.99 15.67 24.48 17.36\n",
      " 14.16 19.98 17.84 15.18 26.6  14.02 18.18 18.77 15.7  18.4  20.76 13.12\n",
      " 19.96 18.89 19.73 19.1  16.02 17.46 13.78 13.27 12.35 18.14 18.17 23.09\n",
      " 18.9  19.89 23.86 18.61 18.16 24.49 15.82 14.4  12.71 13.84 19.11 15.69\n",
      " 13.37 10.72 18.6  16.85 14.08 18.87 18.9  17.   16.18 19.66 13.32 21.51\n",
      " 15.21 17.3  12.88 17.93 20.71 21.88 15.51 19.35 19.86 14.78 19.02 21.\n",
      " 14.23 21.43 17.53 24.27 16.54 16.84 14.96 21.68 15.45 14.71 18.9  14.74\n",
      " 16.03 14.96 17.07 19.22 17.46 25.74 14.07 19.07 18.59 16.21 15.49 18.32\n",
      " 18.07 21.57 18.84 18.29 16.95 21.78 26.83 18.02 17.25 21.9  23.29 13.21\n",
      " 15.1  17.35 16.07 16.07 20.22 28.21 15.15 18.83 12.96 14.93 22.72 17.48\n",
      " 13.72 23.29 14.09 16.16 15.5  23.21 12.22 16.84 19.97 22.28 17.72 17.18\n",
      " 18.89 17.46 14.83 17.26 21.02 10.91 18.29 16.17 14.95 18.59 14.86 21.37\n",
      " 20.66 17.92 17.57 16.83 21.68 22.11 29.81 21.17 21.7  21.08 12.17 21.41\n",
      " 19.04 13.98 16.02 19.13 19.12 21.28 14.98 21.98 16.62 17.67 22.53 17.68\n",
      " 19.54 21.97 16.94 19.62 19.54 15.98 19.6  15.66 17.2  25.42 15.79 18.32\n",
      " 16.85 24.89 28.03 17.66 19.34 20.52 21.54 25.   28.23 13.98 17.15 30.72\n",
      " 29.29 25.25 25.13 28.2  27.15 26.27 26.99 18.36 18.22 20.13 20.74 18.1\n",
      " 23.33 18.18 18.49 28.14 14.93 29.97 15.62 15.73 20.53 16.62 14.59 19.51\n",
      " 18.03 19.24 14.06 17.64 11.28 16.41 16.85 18.82 16.17 20.2  22.44 13.23\n",
      " 20.56 12.83 20.54 20.21 18.17 17.31 17.52 21.24 16.74 24.49 16.32 19.83\n",
      " 12.87 13.14 20.04 17.12 15.7  23.95 14.69 14.7  20.52 13.66 19.07 18.61\n",
      " 20.58 20.26 18.22 16.7  13.9  21.6  19.83 18.68 15.68 13.1  18.75 12.27\n",
      " 13.17 13.44 17.56 20.02 16.33 20.67 17.62 20.86 22.55 24.44 25.49 25.44\n",
      " 14.44 24.99 25.42 28.06 20.7  23.23 16.35 16.58 19.34 24.21 21.48 22.44\n",
      " 29.43 21.94 28.92 27.61 19.59 27.88 22.68 23.93 27.15 29.37 30.62 25.09\n",
      " 22.39 28.25 28.08 29.33 24.54]\n"
     ]
    }
   ],
   "source": [
    "feat_vals = bobj.data[:,col_ind]\n",
    "print(feat_vals)"
   ]
  },
  {
   "cell_type": "code",
   "execution_count": 15,
   "metadata": {},
   "outputs": [
    {
     "name": "stdout",
     "output_type": "stream",
     "text": [
      "569\n"
     ]
    }
   ],
   "source": [
    "print(len(feat_vals))"
   ]
  },
  {
   "cell_type": "code",
   "execution_count": 16,
   "metadata": {},
   "outputs": [
    {
     "name": "stdout",
     "output_type": "stream",
     "text": [
      "9.71\n"
     ]
    }
   ],
   "source": [
    "min_val = np.min(feat_vals)\n",
    "print(min_val)"
   ]
  },
  {
   "cell_type": "code",
   "execution_count": 17,
   "metadata": {},
   "outputs": [
    {
     "name": "stdout",
     "output_type": "stream",
     "text": [
      "39.28\n"
     ]
    }
   ],
   "source": [
    "max_val = np.max(feat_vals)\n",
    "print(max_val)"
   ]
  },
  {
   "cell_type": "code",
   "execution_count": 18,
   "metadata": {
    "collapsed": true
   },
   "outputs": [],
   "source": [
    "row_ind = 1"
   ]
  },
  {
   "cell_type": "code",
   "execution_count": 19,
   "metadata": {},
   "outputs": [
    {
     "name": "stdout",
     "output_type": "stream",
     "text": [
      "['mean radius' 'mean texture' 'mean perimeter' 'mean area'\n",
      " 'mean smoothness' 'mean compactness' 'mean concavity'\n",
      " 'mean concave points' 'mean symmetry' 'mean fractal dimension'\n",
      " 'radius error' 'texture error' 'perimeter error' 'area error'\n",
      " 'smoothness error' 'compactness error' 'concavity error'\n",
      " 'concave points error' 'symmetry error' 'fractal dimension error'\n",
      " 'worst radius' 'worst texture' 'worst perimeter' 'worst area'\n",
      " 'worst smoothness' 'worst compactness' 'worst concavity'\n",
      " 'worst concave points' 'worst symmetry' 'worst fractal dimension']\n"
     ]
    }
   ],
   "source": [
    "print(bobj.feature_names)"
   ]
  },
  {
   "cell_type": "code",
   "execution_count": 20,
   "metadata": {
    "collapsed": true
   },
   "outputs": [],
   "source": [
    "row_vals = bobj.data[row_ind,:]"
   ]
  },
  {
   "cell_type": "code",
   "execution_count": 21,
   "metadata": {},
   "outputs": [
    {
     "name": "stdout",
     "output_type": "stream",
     "text": [
      "[2.057e+01 1.777e+01 1.329e+02 1.326e+03 8.474e-02 7.864e-02 8.690e-02\n",
      " 7.017e-02 1.812e-01 5.667e-02 5.435e-01 7.339e-01 3.398e+00 7.408e+01\n",
      " 5.225e-03 1.308e-02 1.860e-02 1.340e-02 1.389e-02 3.532e-03 2.499e+01\n",
      " 2.341e+01 1.588e+02 1.956e+03 1.238e-01 1.866e-01 2.416e-01 1.860e-01\n",
      " 2.750e-01 8.902e-02]\n"
     ]
    }
   ],
   "source": [
    "print(row_vals)"
   ]
  },
  {
   "cell_type": "code",
   "execution_count": 22,
   "metadata": {},
   "outputs": [
    {
     "name": "stdout",
     "output_type": "stream",
     "text": [
      "0.003532\n",
      "1956.0\n"
     ]
    }
   ],
   "source": [
    "r_min = np.min(row_vals)\n",
    "r_max = np.max(row_vals)\n",
    "print(r_min)\n",
    "print(r_max)"
   ]
  },
  {
   "cell_type": "code",
   "execution_count": 23,
   "metadata": {
    "collapsed": true
   },
   "outputs": [],
   "source": [
    "target_val = bobj.target[row_ind]\n"
   ]
  },
  {
   "cell_type": "code",
   "execution_count": 24,
   "metadata": {},
   "outputs": [
    {
     "name": "stdout",
     "output_type": "stream",
     "text": [
      "0\n"
     ]
    }
   ],
   "source": [
    "print(target_val)"
   ]
  },
  {
   "cell_type": "code",
   "execution_count": 25,
   "metadata": {},
   "outputs": [
    {
     "name": "stdout",
     "output_type": "stream",
     "text": [
      "[0 0 0 0 0 0 0 0 0 0 0 0 0 0 0 0 0 0 0 1 1 1 0 0 0 0 0 0 0 0 0 0 0 0 0 0 0\n",
      " 1 0 0 0 0 0 0 0 0 1 0 1 1 1 1 1 0 0 1 0 0 1 1 1 1 0 1 0 0 1 1 1 1 0 1 0 0\n",
      " 1 0 1 0 0 1 1 1 0 0 1 0 0 0 1 1 1 0 1 1 0 0 1 1 1 0 0 1 1 1 1 0 1 1 0 1 1\n",
      " 1 1 1 1 1 1 0 0 0 1 0 0 1 1 1 0 0 1 0 1 0 0 1 0 0 1 1 0 1 1 0 1 1 1 1 0 1\n",
      " 1 1 1 1 1 1 1 1 0 1 1 1 1 0 0 1 0 1 1 0 0 1 1 0 0 1 1 1 1 0 1 1 0 0 0 1 0\n",
      " 1 0 1 1 1 0 1 1 0 0 1 0 0 0 0 1 0 0 0 1 0 1 0 1 1 0 1 0 0 0 0 1 1 0 0 1 1\n",
      " 1 0 1 1 1 1 1 0 0 1 1 0 1 1 0 0 1 0 1 1 1 1 0 1 1 1 1 1 0 1 0 0 0 0 0 0 0\n",
      " 0 0 0 0 0 0 0 1 1 1 1 1 1 0 1 0 1 1 0 1 1 0 1 0 0 1 1 1 1 1 1 1 1 1 1 1 1\n",
      " 1 0 1 1 0 1 0 1 1 1 1 1 1 1 1 1 1 1 1 1 1 0 1 1 1 0 1 0 1 1 1 1 0 0 0 1 1\n",
      " 1 1 0 1 0 1 0 1 1 1 0 1 1 1 1 1 1 1 0 0 0 1 1 1 1 1 1 1 1 1 1 1 0 0 1 0 0\n",
      " 0 1 0 0 1 1 1 1 1 0 1 1 1 1 1 0 1 1 1 0 1 1 0 0 1 1 1 1 1 1 0 1 1 1 1 1 1\n",
      " 1 0 1 1 1 1 1 0 1 1 0 1 1 1 1 1 1 1 1 1 1 1 1 0 1 0 0 1 0 1 1 1 1 1 0 1 1\n",
      " 0 1 0 1 1 0 1 0 1 1 1 1 1 1 1 1 0 0 1 1 1 1 1 1 0 1 1 1 1 1 1 1 1 1 1 0 1\n",
      " 1 1 1 1 1 1 0 1 0 1 1 0 1 1 1 1 1 0 0 1 0 1 0 1 1 1 1 1 0 1 1 0 1 0 1 0 0\n",
      " 1 1 1 0 1 1 1 1 1 1 1 1 1 1 1 0 1 0 0 1 1 1 1 1 1 1 1 1 1 1 1 1 1 1 1 1 1\n",
      " 1 1 1 1 1 1 1 0 0 0 0 0 0 1]\n"
     ]
    }
   ],
   "source": [
    "print(bobj.target)"
   ]
  },
  {
   "cell_type": "code",
   "execution_count": 26,
   "metadata": {},
   "outputs": [
    {
     "name": "stdout",
     "output_type": "stream",
     "text": [
      "['malignant' 'benign']\n"
     ]
    }
   ],
   "source": [
    "print(bobj.target_names)"
   ]
  },
  {
   "cell_type": "code",
   "execution_count": 27,
   "metadata": {
    "collapsed": true
   },
   "outputs": [],
   "source": [
    "uniq, counts = np.unique(bobj.target,return_counts=True)"
   ]
  },
  {
   "cell_type": "code",
   "execution_count": 28,
   "metadata": {
    "scrolled": true
   },
   "outputs": [
    {
     "name": "stdout",
     "output_type": "stream",
     "text": [
      "[0 1]\n"
     ]
    }
   ],
   "source": [
    "print(uniq)"
   ]
  },
  {
   "cell_type": "code",
   "execution_count": 29,
   "metadata": {},
   "outputs": [
    {
     "name": "stdout",
     "output_type": "stream",
     "text": [
      "[212 357]\n"
     ]
    }
   ],
   "source": [
    "print(counts)"
   ]
  },
  {
   "cell_type": "code",
   "execution_count": 30,
   "metadata": {},
   "outputs": [
    {
     "name": "stdout",
     "output_type": "stream",
     "text": [
      "0 malignant 212\n",
      "1 benign 357\n"
     ]
    }
   ],
   "source": [
    "for i in uniq:\n",
    "    print(i, bobj.target_names[i],counts[i])"
   ]
  },
  {
   "cell_type": "code",
   "execution_count": 31,
   "metadata": {
    "collapsed": true
   },
   "outputs": [],
   "source": [
    "def display_box_plot(data, feature_names, title = 'default'):\n",
    "    rows = feature_names.shape[0]\n",
    "    plt.boxplot(data)\n",
    "    ln = list(range(1,rows+1))\n",
    "    plt.xticks(ln, feature_names)\n",
    "    plt.title(title)\n",
    "    plt.show()"
   ]
  },
  {
   "cell_type": "code",
   "execution_count": 32,
   "metadata": {
    "collapsed": true
   },
   "outputs": [],
   "source": [
    "feat_range = [0,1]\n",
    "data_subset = bobj.data[:, feat_range]\n",
    "feat_name_range = bobj.feature_names[feat_range]"
   ]
  },
  {
   "cell_type": "code",
   "execution_count": 33,
   "metadata": {},
   "outputs": [
    {
     "data": {
      "image/png": "[encoded data removed]",
      "text/plain": [
       "<matplotlib.figure.Figure at 0x1338522e518>"
      ]
     },
     "metadata": {},
     "output_type": "display_data"
    }
   ],
   "source": [
    "display_box_plot(data_subset, feat_name_range)"
   ]
  },
  {
   "cell_type": "code",
   "execution_count": 34,
   "metadata": {
    "collapsed": true
   },
   "outputs": [],
   "source": [
    "#this is done on the next week. after part 3"
   ]
  },
  {
   "cell_type": "code",
   "execution_count": 35,
   "metadata": {},
   "outputs": [
    {
     "name": "stdout",
     "output_type": "stream",
     "text": [
      "[2.057e+01 1.777e+01 1.329e+02 1.326e+03 8.474e-02 7.864e-02 8.690e-02\n",
      " 7.017e-02 1.812e-01 5.667e-02 5.435e-01 7.339e-01 3.398e+00 7.408e+01\n",
      " 5.225e-03 1.308e-02 1.860e-02 1.340e-02 1.389e-02 3.532e-03 2.499e+01\n",
      " 2.341e+01 1.588e+02 1.956e+03 1.238e-01 1.866e-01 2.416e-01 1.860e-01\n",
      " 2.750e-01 8.902e-02]\n"
     ]
    }
   ],
   "source": [
    "print(row_vals)"
   ]
  },
  {
   "cell_type": "code",
   "execution_count": 36,
   "metadata": {},
   "outputs": [
    {
     "name": "stdout",
     "output_type": "stream",
     "text": [
      "[1 4 3 2 1 0 0 0 6 2 0 2 9 8 1 8 5 0 7 3]\n"
     ]
    }
   ],
   "source": [
    "x_rand = np.random.randint(10,size = 20)\n",
    "print(x_rand)"
   ]
  },
  {
   "cell_type": "code",
   "execution_count": 37,
   "metadata": {},
   "outputs": [
    {
     "name": "stdout",
     "output_type": "stream",
     "text": [
      "0\n",
      "9\n",
      "[0.11111111 0.44444444 0.33333333 0.22222222 0.11111111 0.\n",
      " 0.         0.         0.66666667 0.22222222 0.         0.22222222\n",
      " 1.         0.88888889 0.11111111 0.88888889 0.55555556 0.\n",
      " 0.77777778 0.33333333]\n"
     ]
    }
   ],
   "source": [
    "xmin = np.min(x_rand)\n",
    "print(xmin)\n",
    "xmax = np.max(x_rand)\n",
    "print(xmax)\n",
    "denom = xmax - xmin\n",
    "xnorm = (x_rand - xmin) / denom\n",
    "print(xnorm)"
   ]
  },
  {
   "cell_type": "code",
   "execution_count": 38,
   "metadata": {
    "collapsed": true
   },
   "outputs": [],
   "source": [
    "#we doing new stuff"
   ]
  },
  {
   "cell_type": "code",
   "execution_count": 39,
   "metadata": {
    "collapsed": true
   },
   "outputs": [],
   "source": [
    "data = bobj.data\n",
    "xi = 0\n",
    "yi = 0\n",
    "x_data = data[:, np.newaxis, xi]\n",
    "y_data = data[:, np.newaxis, yi]"
   ]
  },
  {
   "cell_type": "code",
   "execution_count": 40,
   "metadata": {
    "collapsed": true
   },
   "outputs": [],
   "source": [
    "from sklearn.model_selection import train_test_split\n",
    "seed = 42\n",
    "size = 0.4\n",
    "X_train, X_test, y_train, y_test = train_test_split(x_data, y_data, test_size = size, random_state = seed)\n",
    "from sklearn import linear_model\n",
    "regr = linear_model.LinearRegression()"
   ]
  },
  {
   "cell_type": "code",
   "execution_count": 41,
   "metadata": {},
   "outputs": [
    {
     "data": {
      "text/plain": [
       "LinearRegression(copy_X=True, fit_intercept=True, n_jobs=1, normalize=False)"
      ]
     },
     "execution_count": 41,
     "metadata": {},
     "output_type": "execute_result"
    }
   ],
   "source": [
    "regr.fit(X_train, y_train)"
   ]
  },
  {
   "cell_type": "code",
   "execution_count": 42,
   "metadata": {},
   "outputs": [
    {
     "name": "stdout",
     "output_type": "stream",
     "text": [
      "1.0518145402946823e-30\n",
      "1.0\n"
     ]
    }
   ],
   "source": [
    "ypred = regr.predict(X_test)\n",
    "from sklearn.metrics import mean_squared_error, r2_score\n",
    "mse = mean_squared_error(y_test, ypred)\n",
    "r2score = r2_score(y_test, ypred)\n",
    "\n",
    "print(mse)\n",
    "print(r2score)"
   ]
  },
  {
   "cell_type": "code",
   "execution_count": 43,
   "metadata": {},
   "outputs": [
    {
     "name": "stdout",
     "output_type": "stream",
     "text": [
      "2487.335575376326\n",
      "0.975989029901469\n"
     ]
    }
   ],
   "source": [
    "xi = 0\n",
    "yi = 3\n",
    "x_data = data[:, np.newaxis, xi]\n",
    "y_data = data[:, np.newaxis, yi]\n",
    "\n",
    "X_train, X_test, y_train, y_test = train_test_split(x_data, y_data, test_size = size, random_state = seed)\n",
    "\n",
    "regr = linear_model.LinearRegression()\n",
    "regr.fit(X_train, y_train)\n",
    "\n",
    "\n",
    "ypred = regr.predict(X_test)\n",
    "mse = mean_squared_error(y_test, ypred)\n",
    "r2score = r2_score(y_test, ypred)\n",
    "\n",
    "print(mse)\n",
    "print(r2score)"
   ]
  },
  {
   "cell_type": "code",
   "execution_count": 44,
   "metadata": {},
   "outputs": [
    {
     "data": {
      "image/png": "[encoded data removed]",
      "text/plain": [
       "<matplotlib.figure.Figure at 0x133873e35c0>"
      ]
     },
     "metadata": {},
     "output_type": "display_data"
    }
   ],
   "source": [
    "plt.scatter(X_train, y_train, color = 'g')\n",
    "plt.scatter(X_test, ypred, color = 'r')\n",
    "plt.xlabel('mean radius')\n",
    "plt.ylabel('mean texture')\n",
    "plt.show()"
   ]
  },
  {
   "cell_type": "code",
   "execution_count": 45,
   "metadata": {
    "collapsed": true
   },
   "outputs": [],
   "source": [
    "#lets call this day 4.\n",
    "\n",
    "from sklearn import neighbors, datasets\n",
    "from sklearn.metrics import confusion_matrix\n",
    "\n",
    "def get_metrics(actual_targets, predicted_targets, label):\n",
    "    c_matrix = confusion_matrix(actual_targets, predicted_targets, label)\n",
    "    \n",
    "    total = float(sum(sum(c_matrix)))\n",
    "    correct_predictions = float(c_matrix[0][0] + c_matrix[1][1])\n",
    "    correct_positives = float(c_matrix[1][1])\n",
    "    total_negatives = float(sum(c_matrix[0,:]))\n",
    "    total_positives = float(sum(c_matrix[1,:]))\n",
    "    false_positives = float(c_matrix[0][1])\n",
    "    \n",
    "    output = {\n",
    "        'confusion matrix' : c_matrix,\n",
    "        'total records' : int(total),\n",
    "        'accuracy' : round(correct_predictions / total, 3),\n",
    "        'sensitivity' : round(correct_positives / total_positives, 3),\n",
    "        'false positive rate' : round(false_positives / total_negatives, 3)\n",
    "    }\n",
    "    return output\n"
   ]
  },
  {
   "cell_type": "code",
   "execution_count": 46,
   "metadata": {
    "collapsed": true
   },
   "outputs": [],
   "source": [
    "def normalize_minmax(data):\n",
    "    size = data.shape\n",
    "    if len(size) == 1:\n",
    "        columns = 1\n",
    "    else:\n",
    "        columns = size[1]\n",
    "        \n",
    "    for i in range(columns):\n",
    "        maxm = np.max(data[:, i])\n",
    "        minm = np.min(data[:, i])\n",
    "        denom = maxm - minm\n",
    "        \n",
    "        data[:,i] = (data[:, i] - minm)/denom\n",
    "    return data\n"
   ]
  },
  {
   "cell_type": "code",
   "execution_count": 47,
   "metadata": {
    "collapsed": true
   },
   "outputs": [],
   "source": [
    "'''from sklearn.model_selection import train_test_split\n",
    "seed = 42\n",
    "size = 0.4\n",
    "X_train, X_test, y_train, y_test = train_test_split(x_data, y_data, test_size = size, random_state = seed)\n",
    "from sklearn import linear_model\n",
    "regr = linear_model.LinearRegression()\n",
    "\n",
    "from sklearn.metrics import mean_squared_error, r2_score\n",
    "mse = mean_squared_error(y_test, ypred)\n",
    "r2score = r2_score(y_test, ypred)'''\n",
    "\n",
    "from sklearn import linear_model\n",
    "from sklearn.metrics import mean_squared_error, r2_score\n",
    "def linear_regression(bobj, x_ind, y_ind, size, seed):\n",
    "    data = bobj.data\n",
    "    x_data = data[:, np.newaxis, x_ind]\n",
    "    y_data = data[:, np.newaxis, y_ind]\n",
    "    X_train, X_test, y_train, y_test = train_test_split(x_data, y_data, test_size = size, random_state = seed)\n",
    "    \n",
    "    regr = linear_model.LinearRegression()\n",
    "    regr.fit(X_train, y_train)\n",
    "    y_pred = regr.predict(X_test)\n",
    "    \n",
    "    mse = mean_squared_error(y_test, y_pred)\n",
    "    var = r2_score(y_test, y_pred)\n",
    "    \n",
    "    results = {'coefficients':regr.coef_,\n",
    "              'intercept':regr.intercept_,\n",
    "              'mean squared error':mse,\n",
    "              'r2 score': var}\n",
    "    \n",
    "    return X_train, y_train, X_test, y_pred, results\n",
    "    \n",
    "    \n",
    "\n"
   ]
  },
  {
   "cell_type": "code",
   "execution_count": 48,
   "metadata": {
    "collapsed": true
   },
   "outputs": [],
   "source": [
    "'''y_rand = np.random.randint(20, size = 20)\n",
    "y1_rand = np.random.randint(20, size = 20)\n",
    "plt.scatter(x_rand, y_rand, facecolor = 'g')\n",
    "plt.scatter(x_rand, y1_rand, facecolor = 'r')\n",
    "plt.xlabel('x')\n",
    "plt.ylabel('y')\n",
    "plt.title('title')\n",
    "plt.show()'''\n",
    "\n",
    "def plot_linear_regression(x1, y1, x2, y2, x_label = '', y_label = ''):\n",
    "    plt.scatter(x1, y1, color = 'black')\n",
    "    plt.scatter(x2, y2, color = 'blue')\n",
    "    plt.xlabel(x_label)\n",
    "    plt.ylabel(y_label)\n",
    "    plt.show()\n"
   ]
  },
  {
   "cell_type": "code",
   "execution_count": 49,
   "metadata": {},
   "outputs": [
    {
     "name": "stdout",
     "output_type": "stream",
     "text": [
      "{'coefficients': array([[100.16755386]]), 'intercept': array([-760.52027342]), 'mean squared error': 243017.83578444624, 'r2 score': -1.0572070859076041}\n"
     ]
    },
    {
     "data": {
      "image/png": "[encoded data removed]",
      "text/plain": [
       "<matplotlib.figure.Figure at 0x13388671518>"
      ]
     },
     "metadata": {},
     "output_type": "display_data"
    }
   ],
   "source": [
    "X_train, y_train, X_test, y_pred, results = linear_regression(bobj, 0, 3,0.4,2752)\n",
    "print(results)\n",
    "plot_linear_regression(X_train, y_train, X_test, y_pred,\\\n",
    "                       bobj.feature_names[0],\n",
    "                       bobj.feature_names[3])\n"
   ]
  },
  {
   "cell_type": "code",
   "execution_count": 50,
   "metadata": {
    "collapsed": true
   },
   "outputs": [],
   "source": [
    "from sklearn.model_selection import train_test_split \n",
    "\n",
    "def knn_classifier(bobj, feature_list, size, seed, k):\n",
    "    data = bobj.data[:, feature_list]\n",
    "    target = bobj.target\n",
    "    \n",
    "    data = normalize_minmax(data)\n",
    "    \n",
    "    data_train, data_test, target_train, target_test = train_test_split(data, target, test_size = size, random_state = seed)\n",
    "    \n",
    "    clf = neighbors.KNeighborsClassifier(k)\n",
    "    clf.fit(data_train, target_train)\n",
    "    \n",
    "    predicted_targets = clf.predict(data_test)\n",
    "    \n",
    "    results = get_metrics(target_test, predicted_targets, [0,1])\n",
    "    \n",
    "    return results"
   ]
  },
  {
   "cell_type": "code",
   "execution_count": 51,
   "metadata": {},
   "outputs": [
    {
     "name": "stdout",
     "output_type": "stream",
     "text": [
      "{'confusion matrix': array([[ 73,   9],\n",
      "       [  5, 141]], dtype=int64), 'total records': 228, 'accuracy': 0.939, 'sensitivity': 0.966, 'false positive rate': 0.11}\n"
     ]
    }
   ],
   "source": [
    "features = range(20)\n",
    "results = knn_classifier(bobj, features, 0.4, 2752, 3)\n",
    "print(results)"
   ]
  },
  {
   "cell_type": "code",
   "execution_count": null,
   "metadata": {
    "collapsed": true
   },
   "outputs": [],
   "source": []
  },
  {
   "cell_type": "code",
   "execution_count": null,
   "metadata": {
    "collapsed": true
   },
   "outputs": [],
   "source": []
  }
 ],
 "metadata": {
  "kernelspec": {
   "display_name": "Python 3",
   "language": "python",
   "name": "python3"
  },
  "language_info": {
   "codemirror_mode": {
    "name": "ipython",
    "version": 3
   },
   "file_extension": ".py",
   "mimetype": "text/x-python",
   "name": "python",
   "nbconvert_exporter": "python",
   "pygments_lexer": "ipython3",
   "version": "3.6.3"
  }
 },
 "nbformat": 4,
 "nbformat_minor": 2
}
