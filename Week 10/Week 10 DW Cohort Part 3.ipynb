{
 "cells": [
  {
   "cell_type": "code",
   "execution_count": 1,
   "metadata": {
    "collapsed": true
   },
   "outputs": [],
   "source": [
    "import numpy as np\n",
    "import matplotlib.pyplot as plt\n",
    "from matplotlib.colors import ListedColormap\n",
    "from sklearn import neighbors, datasets\n"
   ]
  },
  {
   "cell_type": "code",
   "execution_count": 2,
   "metadata": {
    "collapsed": true
   },
   "outputs": [],
   "source": [
    "bobj = datasets.load_breast_cancer()"
   ]
  },
  {
   "cell_type": "code",
   "execution_count": 3,
   "metadata": {
    "collapsed": true
   },
   "outputs": [],
   "source": [
    "feature_range = [0,1]\n",
    "data_subset = bobj.data[:, feature_range]"
   ]
  },
  {
   "cell_type": "code",
   "execution_count": 4,
   "metadata": {},
   "outputs": [
    {
     "data": {
      "text/plain": [
       "(569, 2)"
      ]
     },
     "execution_count": 4,
     "metadata": {},
     "output_type": "execute_result"
    }
   ],
   "source": [
    "data_subset.shape"
   ]
  },
  {
   "cell_type": "code",
   "execution_count": 5,
   "metadata": {},
   "outputs": [
    {
     "name": "stdout",
     "output_type": "stream",
     "text": [
      "['malignant' 'benign']\n"
     ]
    }
   ],
   "source": [
    "print(bobj.target_names)"
   ]
  },
  {
   "cell_type": "code",
   "execution_count": 6,
   "metadata": {},
   "outputs": [
    {
     "name": "stdout",
     "output_type": "stream",
     "text": [
      "['mean radius' 'mean texture' 'mean perimeter' 'mean area'\n",
      " 'mean smoothness' 'mean compactness' 'mean concavity'\n",
      " 'mean concave points' 'mean symmetry' 'mean fractal dimension'\n",
      " 'radius error' 'texture error' 'perimeter error' 'area error'\n",
      " 'smoothness error' 'compactness error' 'concavity error'\n",
      " 'concave points error' 'symmetry error' 'fractal dimension error'\n",
      " 'worst radius' 'worst texture' 'worst perimeter' 'worst area'\n",
      " 'worst smoothness' 'worst compactness' 'worst concavity'\n",
      " 'worst concave points' 'worst symmetry' 'worst fractal dimension']\n"
     ]
    }
   ],
   "source": [
    "print(bobj.feature_names)"
   ]
  },
  {
   "cell_type": "code",
   "execution_count": 7,
   "metadata": {
    "collapsed": true
   },
   "outputs": [],
   "source": [
    "x_rand = np.random.randint(10,size = 20)"
   ]
  },
  {
   "cell_type": "code",
   "execution_count": 8,
   "metadata": {},
   "outputs": [
    {
     "name": "stdout",
     "output_type": "stream",
     "text": [
      "[8 1 9 1 6 1 9 4 8 4 4 3 6 3 6 3 0 1 5 8]\n"
     ]
    }
   ],
   "source": [
    "print(x_rand)"
   ]
  },
  {
   "cell_type": "code",
   "execution_count": 9,
   "metadata": {},
   "outputs": [
    {
     "data": {
      "image/png": "[encoded data removed]",
      "text/plain": [
       "<matplotlib.figure.Figure at 0x11a49e0feb8>"
      ]
     },
     "metadata": {},
     "output_type": "display_data"
    }
   ],
   "source": [
    "nbins = 4\n",
    "n, nbins, patches = plt.hist(x_rand, nbins, facecolor = 'g', alpha = 0.75)\n",
    "plt.xlabel('x')\n",
    "plt.title('title')\n",
    "plt.show()"
   ]
  },
  {
   "cell_type": "code",
   "execution_count": 10,
   "metadata": {},
   "outputs": [
    {
     "data": {
      "image/png": "[encoded data removed]",
      "text/plain": [
       "<matplotlib.figure.Figure at 0x11a49e0fef0>"
      ]
     },
     "metadata": {},
     "output_type": "display_data"
    }
   ],
   "source": [
    "'''y_rand = np.random.randint(20, size = 20)\n",
    "y1_rand = np.random.randint(20, size = 20)\n",
    "plt.scatter(x_rand, y_rand, facecolor = 'g')\n",
    "plt.scatter(x_rand, y1_rand, facecolor = 'r')\n",
    "plt.xlabel('x')\n",
    "plt.ylabel('y')\n",
    "plt.title('title')\n",
    "plt.show()'''\n",
    "# we commenting away the example\n",
    "\n",
    "def display_scatter(x, y, xlabel = 'x', ylabel = 'y', title_name = 'default'):\n",
    "    plt.scatter(x, y)\n",
    "    plt.xlabel(xlabel)\n",
    "    plt.ylabel(ylabel)\n",
    "    plt.title(title_name)\n",
    "    plt.show()\n",
    "    \n",
    "x_ind = 0\n",
    "y_ind = 3\n",
    "\n",
    "x = bobj.data[:, x_ind]\n",
    "y = bobj.data[:, y_ind]\n",
    "\n",
    "xlabel = bobj.feature_names[x_ind]\n",
    "ylabel = bobj.feature_names[y_ind]\n",
    "\n",
    "display_scatter(x, y, xlabel, ylabel)"
   ]
  },
  {
   "cell_type": "code",
   "execution_count": null,
   "metadata": {
    "collapsed": true
   },
   "outputs": [],
   "source": [
    "\n"
   ]
  },
  {
   "cell_type": "code",
   "execution_count": 11,
   "metadata": {
    "collapsed": true
   },
   "outputs": [],
   "source": [
    "target = np.random.randint(2, size = 20)"
   ]
  },
  {
   "cell_type": "code",
   "execution_count": 12,
   "metadata": {},
   "outputs": [
    {
     "name": "stdout",
     "output_type": "stream",
     "text": [
      "[1 0 1 0 0 0 1 0 0 1 1 1 0 1 0 0 1 1 0 1]\n",
      "[0 1] [10 10]\n"
     ]
    }
   ],
   "source": [
    "uniqs, count = np.unique(target, return_counts = True)\n",
    "print(target)\n",
    "print(uniqs, count)"
   ]
  },
  {
   "cell_type": "code",
   "execution_count": 13,
   "metadata": {},
   "outputs": [
    {
     "data": {
      "image/png": "[encoded data removed]",
      "text/plain": [
       "<matplotlib.figure.Figure at 0x11a4be60908>"
      ]
     },
     "metadata": {},
     "output_type": "display_data"
    }
   ],
   "source": [
    "plt.bar(uniqs, count, align = 'center')\n",
    "plt.xticks(uniqs)\n",
    "plt.title('title')\n",
    "plt.ylabel('count')\n",
    "plt.xlabel('x values')\n",
    "plt.show()"
   ]
  },
  {
   "cell_type": "code",
   "execution_count": null,
   "metadata": {
    "collapsed": true
   },
   "outputs": [],
   "source": [
    "\n",
    "\n",
    "\n"
   ]
  },
  {
   "cell_type": "code",
   "execution_count": 14,
   "metadata": {},
   "outputs": [
    {
     "name": "stdout",
     "output_type": "stream",
     "text": [
      "[8 1 9 1 6 1 9 4 8 4 4 3 6 3 6 3 0 1 5 8]\n"
     ]
    }
   ],
   "source": [
    "print(x_rand)"
   ]
  },
  {
   "cell_type": "code",
   "execution_count": 15,
   "metadata": {},
   "outputs": [
    {
     "name": "stdout",
     "output_type": "stream",
     "text": [
      "0\n"
     ]
    }
   ],
   "source": [
    "xmin = np.min(x_rand)\n",
    "print(xmin)"
   ]
  },
  {
   "cell_type": "code",
   "execution_count": 16,
   "metadata": {},
   "outputs": [
    {
     "name": "stdout",
     "output_type": "stream",
     "text": [
      "9\n"
     ]
    }
   ],
   "source": [
    "xmax = np.max(x_rand)\n",
    "print(xmax)"
   ]
  },
  {
   "cell_type": "code",
   "execution_count": 17,
   "metadata": {},
   "outputs": [
    {
     "name": "stdout",
     "output_type": "stream",
     "text": [
      "2.5\n"
     ]
    }
   ],
   "source": [
    "percent25 = np.percentile(x_rand, 25)\n",
    "print(percent25)"
   ]
  },
  {
   "cell_type": "code",
   "execution_count": 18,
   "metadata": {},
   "outputs": [
    {
     "name": "stdout",
     "output_type": "stream",
     "text": [
      "6.5\n"
     ]
    }
   ],
   "source": [
    "percent75 = np.percentile(x_rand, 75)\n",
    "print(percent75)"
   ]
  },
  {
   "cell_type": "code",
   "execution_count": 19,
   "metadata": {},
   "outputs": [
    {
     "name": "stdout",
     "output_type": "stream",
     "text": [
      "4.0\n"
     ]
    }
   ],
   "source": [
    "median = np.median(x_rand)\n",
    "print(median)"
   ]
  },
  {
   "cell_type": "code",
   "execution_count": 20,
   "metadata": {},
   "outputs": [
    {
     "name": "stdout",
     "output_type": "stream",
     "text": [
      "0 2.5 4.0 6.5 9\n"
     ]
    }
   ],
   "source": [
    "print(xmin, percent25, median, percent75, xmax)"
   ]
  },
  {
   "cell_type": "code",
   "execution_count": 21,
   "metadata": {},
   "outputs": [
    {
     "name": "stdout",
     "output_type": "stream",
     "text": [
      "{'xmin': 0, 'xmax': 9}\n"
     ]
    }
   ],
   "source": [
    "summary = dict()\n",
    "summary['xmin'] = xmin\n",
    "summary['xmax'] = xmax\n",
    "print(summary)"
   ]
  },
  {
   "cell_type": "code",
   "execution_count": 22,
   "metadata": {
    "collapsed": true
   },
   "outputs": [],
   "source": [
    "#part 2 on part 1 document and also the later parts"
   ]
  },
  {
   "cell_type": "code",
   "execution_count": 23,
   "metadata": {},
   "outputs": [
    {
     "name": "stdout",
     "output_type": "stream",
     "text": [
      "mean radius\n"
     ]
    },
    {
     "data": {
      "image/png": "[encoded data removed]",
      "text/plain": [
       "<matplotlib.figure.Figure at 0x11a4d063cf8>"
      ]
     },
     "metadata": {},
     "output_type": "display_data"
    }
   ],
   "source": [
    "#i am doing cohort check offs for graphs\n",
    "\n",
    "\n",
    "import numpy as np\n",
    "import matplotlib.pyplot as plt\n",
    "from sklearn import datasets\n",
    "\n",
    "bunchobject = datasets.load_breast_cancer()\n",
    "def display_histogram(data, nbins, feature_name, title_name='default'):\n",
    "    plt.hist(data,nbins,facecolor='g')\n",
    "    print (feature_name)\n",
    "    plt.xlabel('mean radius')\n",
    "    plt.show()\n",
    "feature_col = 0\n",
    "one_col_data = data_subset[:,feature_col]\n",
    "feature_name_selected = bunchobject.feature_names[feature_col]\n",
    "number_of_bins = 20\n",
    "title_string = ' '\n",
    "display_histogram(one_col_data, number_of_bins, feature_name_selected, title_string)"
   ]
  },
  {
   "cell_type": "code",
   "execution_count": 24,
   "metadata": {},
   "outputs": [
    {
     "data": {
      "image/png": "[encoded data removed]",
      "text/plain": [
       "<matplotlib.figure.Figure at 0x11a4c04e6d8>"
      ]
     },
     "metadata": {},
     "output_type": "display_data"
    }
   ],
   "source": [
    "def   display_scatter (x,y, xlabel= 'x' , ylabel= 'y' ,title_name = 'default' ):\n",
    "    a = plt.scatter(x,y,color='green')\n",
    "    plt.xlabel(xlabel)\n",
    "    plt.ylabel(ylabel)\n",
    "    plt.show()\n",
    "x_index = 0\n",
    "y_index = 3 \n",
    "x = bunchobject.data[:,x_index] \n",
    "y = bunchobject.data[:,y_index] \n",
    "x_label = bunchobject.feature_names[x_index] \n",
    "y_label = bunchobject.feature_names[y_index] \n",
    " \n",
    "display_scatter(x,y,x_label,y_label)"
   ]
  },
  {
   "cell_type": "code",
   "execution_count": 25,
   "metadata": {},
   "outputs": [
    {
     "data": {
      "image/png": "[encoded data removed]",
      "text/plain": [
       "<matplotlib.figure.Figure at 0x11a4c08b748>"
      ]
     },
     "metadata": {},
     "output_type": "display_data"
    }
   ],
   "source": [
    "import numpy as np\n",
    "import matplotlib.pyplot as plt\n",
    "from sklearn import datasets\n",
    "\n",
    "def display_bar_chart(positions, counts, names, title_name='default'):\n",
    "    plt.bar(positions,counts,align='center')\n",
    "    plt.xticks(positions, names)\n",
    "    plt.ylabel('counts')\n",
    "    plt.title(title_name)\n",
    "    plt.show()\n",
    "unique, counts = np.unique(bunchobject.target, return_counts = True)\n",
    "display_bar_chart(unique, counts, bunchobject.target_names)"
   ]
  },
  {
   "cell_type": "code",
   "execution_count": 26,
   "metadata": {
    "collapsed": true
   },
   "outputs": [],
   "source": [
    "#i am doing vocareum CS2"
   ]
  },
  {
   "cell_type": "code",
   "execution_count": 27,
   "metadata": {
    "collapsed": true
   },
   "outputs": [],
   "source": [
    "import numpy as np\n",
    "\n",
    "def five_number_summary(x):\n",
    "    ls = []\n",
    "    if len(x.shape) == 1:\n",
    "        col = 1\n",
    "    else:\n",
    "        col = x.shape[1]\n",
    "    \n",
    "    for i in range(col):\n",
    "        maxi = np.max(x[:, i])\n",
    "        mini = np.min(x[:, i])\n",
    "        per25 = np.percentile(x[:, i], 25)\n",
    "        median = np.median(x[:, i])\n",
    "        per75 = np.percentile(x[:, i], 75)\n",
    "        dic = {}\n",
    "        dic['minimum'] = mini\n",
    "        dic['first quartile'] = per25\n",
    "        dic['median'] = median\n",
    "        dic['third quartile'] = per75\n",
    "        dic['maximum'] = maxi\n",
    "        ls.append(dic)\n",
    "        \n",
    "    \n",
    "    return ls"
   ]
  },
  {
   "cell_type": "code",
   "execution_count": 28,
   "metadata": {
    "collapsed": true
   },
   "outputs": [],
   "source": [
    "#vocareum CS3\n",
    "\n",
    "import numpy as np\n",
    "\n",
    "def normalize_minmax(data):\n",
    "    size = data.shape\n",
    "    if len(size) == 1:\n",
    "        columns = 1\n",
    "    else:\n",
    "        columns = size[1]\n",
    "        \n",
    "    for i in range(columns):\n",
    "        maxm = np.max(data[:, i])\n",
    "        minm = np.min(data[:, i])\n",
    "        denom = maxm - minm\n",
    "        \n",
    "        data[:,i] = (data[:, i] - minm)/denom\n",
    "    return data"
   ]
  },
  {
   "cell_type": "code",
   "execution_count": 29,
   "metadata": {
    "collapsed": true
   },
   "outputs": [],
   "source": [
    "#vocareum CS4\n",
    "\n",
    "from sklearn.model_selection import train_test_split \n",
    "from sklearn import neighbors, datasets\n",
    "from sklearn.metrics import confusion_matrix\n",
    "import numpy as np\n",
    "\n",
    "# place all other function definitions you need here\n",
    "\n",
    "\n",
    "def get_metrics(actual_targets, predicted_targets, label):\n",
    "    c_matrix = confusion_matrix(actual_targets, predicted_targets, label)\n",
    "    \n",
    "    total = float(sum(sum(c_matrix)))\n",
    "    correct_predictions = float(c_matrix[0][0] + c_matrix[1][1])\n",
    "    correct_positives = float(c_matrix[1][1])\n",
    "    total_negatives = float(sum(c_matrix[0,:]))\n",
    "    total_positives = float(sum(c_matrix[1,:]))\n",
    "    false_positives = float(c_matrix[0][1])\n",
    "    \n",
    "    output = {\n",
    "        'confusion matrix' : c_matrix,\n",
    "        'total records' : int(total),\n",
    "        'accuracy' : round(correct_predictions / total, 3),\n",
    "        'sensitivity' : round(correct_positives / total_positives, 3),\n",
    "        'false positive rate' : round(false_positives / total_negatives, 3)\n",
    "    }\n",
    "    return output\n",
    "\n",
    "def normalize_minmax(data):\n",
    "    size = data.shape\n",
    "    if len(size) == 1:\n",
    "        columns = 1\n",
    "    else:\n",
    "        columns = size[1]\n",
    "        \n",
    "    for i in range(columns):\n",
    "        maxm = np.max(data[:, i])\n",
    "        minm = np.min(data[:, i])\n",
    "        denom = maxm - minm\n",
    "        \n",
    "        data[:,i] = (data[:, i] - minm)/denom\n",
    "    return data\n",
    "\n",
    "\n",
    "def knn_classifier(bobj, feature_list, size, seed, k):\n",
    "    data = bobj.data[:, feature_list]\n",
    "    target = bobj.target\n",
    "    \n",
    "    data = normalize_minmax(data)\n",
    "    \n",
    "    data_train, data_test, target_train, target_test = train_test_split(data, target, test_size = size, random_state = seed)\n",
    "    \n",
    "    clf = neighbors.KNeighborsClassifier(k)\n",
    "    clf.fit(data_train, target_train)\n",
    "    \n",
    "    predicted_targets = clf.predict(data_test)\n",
    "    \n",
    "    results = get_metrics(target_test, predicted_targets, [0,1])\n",
    "    \n",
    "    return results"
   ]
  },
  {
   "cell_type": "code",
   "execution_count": 30,
   "metadata": {
    "collapsed": true
   },
   "outputs": [],
   "source": [
    "#vocareum CS5\n",
    "\n",
    "from sklearn import linear_model \n",
    "from sklearn.metrics import mean_squared_error, r2_score\n",
    "from sklearn.model_selection import train_test_split \n",
    "import numpy as np\n",
    "\n",
    "def linear_regression(bobj, x_ind, y_ind, size, seed):\n",
    "    data = bobj.data\n",
    "    x_data = data[:, np.newaxis, x_ind]\n",
    "    y_data = data[:, np.newaxis, y_ind]\n",
    "    X_train, X_test, y_train, y_test = train_test_split(x_data, y_data, test_size = size, random_state = seed)\n",
    "    \n",
    "    regr = linear_model.LinearRegression()\n",
    "    regr.fit(X_train, y_train)\n",
    "    y_pred = regr.predict(X_test)\n",
    "    \n",
    "    mse = mean_squared_error(y_test, y_pred)\n",
    "    var = r2_score(y_test, y_pred)\n",
    "    \n",
    "    results = {'coefficients':regr.coef_,\n",
    "              'intercept':regr.intercept_,\n",
    "              'mean squared error':mse,\n",
    "              'r2 score': var}\n",
    "    \n",
    "    return X_train, y_train, X_test, y_pred, results\n",
    "    \n",
    "    "
   ]
  },
  {
   "cell_type": "code",
   "execution_count": 31,
   "metadata": {
    "collapsed": true
   },
   "outputs": [],
   "source": [
    "#Vocareum CS6\n",
    "\n",
    "from sklearn import linear_model \n",
    "from sklearn.metrics import mean_squared_error, r2_score\n",
    "from sklearn.model_selection import train_test_split \n",
    "from sklearn.preprocessing import PolynomialFeatures\n",
    "import numpy as np\n",
    "\n",
    "\n",
    "\n",
    "def multiple_linear_regression(bobj, x_ind, y_ind, order, size, seed):\n",
    "    \n",
    "    x_data = bobj.data[:, np.newaxis, x_ind]\n",
    "    y_data = bobj.data[:, np.newaxis, y_ind]\n",
    "    X_train, X_test, y_train, y_test = train_test_split(x_data, y_data, test_size = size, random_state = seed)\n",
    "    \n",
    "    regr = linear_model.LinearRegression()\n",
    "    poly = PolynomialFeatures(degree=order, include_bias = False)\n",
    "    _xtrain = poly.fit_transform(X_train)\n",
    "    _xtest = poly.fit_transform(X_train)\n",
    "    \n",
    "    \n",
    "    regr.fit(_xtrain, y_train)\n",
    "    y_pred = regr.predict(_xtest)\n",
    "    \n",
    "    mse = mean_squared_error(y_test, y_pred)\n",
    "    var = r2_score(y_test, y_pred)\n",
    "    \n",
    "    results = {'coefficients':regr.coef_,\n",
    "              'intercept':regr.intercept_,\n",
    "              'mean squared error':mse,\n",
    "              'r2 score': var}\n",
    "    \n",
    "    return _xtrain[:,0], y_train, _xtest[:,0], y_pred, results\n",
    "\n",
    "\n",
    "#ver2 (use this one, vocareum accepts)\n",
    "\n",
    "#Vocareum CS6\n",
    "\n",
    "from sklearn import linear_model \n",
    "from sklearn.metrics import mean_squared_error, r2_score\n",
    "from sklearn.model_selection import train_test_split \n",
    "from sklearn.preprocessing import PolynomialFeatures\n",
    "import numpy as np\n",
    "\n",
    "\n",
    "\n",
    "def multiple_linear_regression(bobj, x_ind, y_ind, order, size, seed):\n",
    "    \n",
    "    x_data = bobj.data[:, np.newaxis, x_ind]\n",
    "    y_data = bobj.data[:, np.newaxis, y_ind]\n",
    "    X_train, X_test, y_train, y_test = train_test_split(x_data, y_data, test_size = size, random_state = seed)\n",
    "    \n",
    "    \n",
    "    poly = PolynomialFeatures(degree = order, include_bias = False)\n",
    "    _xtrain = poly.fit_transform(X_train)\n",
    "    _xtest = poly.fit_transform(X_test)\n",
    "    \n",
    "    regr = linear_model.LinearRegression()\n",
    "    regr.fit(_xtrain,y_train)\n",
    "    y_pred = regr.predict(_xtest)\n",
    "    \n",
    "    var = r2_score(y_test,y_pred)\n",
    "    mse = mean_squared_error(y_test,y_pred)\n",
    "    \n",
    "    results = {'coefficients':regr.coef_,\n",
    "              'intercept':regr.intercept_,\n",
    "              'mean squared error':mse,\n",
    "              'r2 score': var}\n",
    "    \n",
    "    return _xtrain[:,0], y_train, _xtest[:,0], y_pred, results\n",
    "\n"
   ]
  },
  {
   "cell_type": "code",
   "execution_count": 32,
   "metadata": {},
   "outputs": [
    {
     "name": "stdout",
     "output_type": "stream",
     "text": [
      "{'best k': 4, 'validation set': {'confusion matrix': array([[39,  2],\n",
      "       [ 2, 71]], dtype=int64), 'total records': 114, 'accuracy': 0.965, 'sensitivity': 0.973, 'false positive rate': 0.049}, 'test set': {'confusion matrix': array([[40,  1],\n",
      "       [ 4, 69]], dtype=int64), 'total records': 114, 'accuracy': 0.956, 'sensitivity': 0.945, 'false positive rate': 0.024}}\n"
     ]
    }
   ],
   "source": [
    "#vocareum CS7\n",
    "\n",
    "from sklearn.model_selection import train_test_split \n",
    "from sklearn import neighbors, datasets\n",
    "from sklearn.metrics import confusion_matrix\n",
    "import numpy as np\n",
    "\n",
    "# include all the necessary function definitions here\n",
    "def get_metrics(actual_targets, predicted_targets):\n",
    "    c_matrix = confusion_matrix(actual_targets, predicted_targets)\n",
    "    \n",
    "    total = float(sum(sum(c_matrix)))\n",
    "    correct_predictions = float(c_matrix[0][0] + c_matrix[1][1])\n",
    "    correct_positives = float(c_matrix[1][1])\n",
    "    total_negatives = float(sum(c_matrix[0,:]))\n",
    "    total_positives = float(sum(c_matrix[1,:]))\n",
    "    false_positives = float(c_matrix[0][1])\n",
    "    \n",
    "    output = {\n",
    "        'confusion matrix' : c_matrix,\n",
    "        'total records' : int(total),\n",
    "        'accuracy' : round(correct_predictions / total, 3),\n",
    "        'sensitivity' : round(correct_positives / total_positives, 3),\n",
    "        'false positive rate' : round(false_positives / total_negatives, 3)\n",
    "    }\n",
    "    return output\n",
    "\n",
    "def normalize_minmax(data):\n",
    "    size = data.shape\n",
    "    if len(size) == 1:\n",
    "        columns = 1\n",
    "    else:\n",
    "        columns = size[1]\n",
    "        \n",
    "    for i in range(columns):\n",
    "        maxm = np.max(data[:, i])\n",
    "        minm = np.min(data[:, i])\n",
    "        denom = maxm - minm\n",
    "        \n",
    "        data[:,i] = (data[:, i] - minm)/denom\n",
    "    return data\n",
    "\n",
    "\n",
    "   \n",
    "def knn_classifier_full(bobj, feature_list, size, seed): \n",
    "    \n",
    "    data = bobj.data[:, feature_list]\n",
    "    target = bobj.target\n",
    "    \n",
    "    data = normalize_minmax(data)\n",
    "    \n",
    "    data_train, datapart2, target_train, targetpart2 = train_test_split(data, target, test_size  = 0.40, random_state = seed)\n",
    "    data_valid, data_test, target_valid, target_test = train_test_split(datapart2, targetpart2, test_size = 0.5, random_state = seed)\n",
    "\n",
    "    acc = [0]\n",
    "    \n",
    "    for k in range(1,20):\n",
    "        clf = neighbors.KNeighborsClassifier(n_neighbors=k)\n",
    "        clf.fit(data_train, target_train)\n",
    "        predicted_targets = clf.predict(data_valid)\n",
    "        results = get_metrics(target_valid, predicted_targets)\n",
    "        acc.append(results['accuracy'])\n",
    "    \n",
    "    best_k = acc.index(max(acc))\n",
    "    \n",
    "    clf = neighbors.KNeighborsClassifier(n_neighbors=best_k)\n",
    "    clf.fit(data_train, target_train)\n",
    "    target_predicted = clf.predict(data_valid)\n",
    "    results1 = get_metrics(target_valid, target_predicted)\n",
    "    \n",
    "    target_predicted2 = clf.predict(data_test)\n",
    "    results2 = get_metrics(target_test, target_predicted2)\n",
    "    \n",
    "    out_results = {\n",
    "        'best k': best_k,\n",
    "        'validation set':results1,\n",
    "        'test set':results2,\n",
    "    }\n",
    "    return out_results\n",
    "\n",
    "\n",
    "bobj = datasets.load_breast_cancer()\n",
    "features = range(20) #select features in cols 0 to 19\n",
    "results = knn_classifier_full(bobj, features, 0.40, 2752)\n",
    "print(results)\n",
    "\n",
    "###########\n",
    "\n",
    "\n",
    "from sklearn.model_selection import train_test_split \n",
    "from sklearn import neighbors, datasets\n",
    "from sklearn.metrics import confusion_matrix\n",
    "import numpy as np\n",
    "from sklearn import model_selection\n",
    "\n",
    "# place all other function definitions you need here\n",
    "#\n",
    "def get_metrics(actual_targets, predicted_targets, labels):\n",
    "    c_matrix = confusion_matrix(actual_targets, predicted_targets,labels)\n",
    "    T_rec = np.sum(c_matrix)\n",
    "    accuracy = np.trace(c_matrix)/T_rec\n",
    "    sensitivity = c_matrix[1][1]/np.sum(c_matrix[1])\n",
    "    false = c_matrix[0][1]/np.sum(c_matrix[0])\n",
    "    key = ['confusion matrix','total records','accuracy','sensitivity','false positive rate']\n",
    "    val = [c_matrix,T_rec,accuracy,sensitivity,false]\n",
    "    result = dict(zip(key,[np.round(i,3) for i in val]))\n",
    "    return result\n",
    "def normalize_minmax(data):\n",
    "    ncols=data.shape[1]\n",
    "    for c in range(ncols):\n",
    "        data_col = data[:,c]\n",
    "        min_data=np.min(data_col)\n",
    "        max_data=np.max(data_col)\n",
    "        data[:,c]=(data_col-min_data)/(max_data-min_data)\n",
    "    return data\n",
    "def knn_classifier(bunchobject, feature_list, size, seed , k ): \n",
    "    data = bunchobject.data[:,feature_list]\n",
    "    target=bunchobject.target\n",
    "    data_norm = normalize_minmax(data)\n",
    "    data_train,data_test,target_train,target_test=model_selection.train_test_split(data_norm,target,test_size=size,random_state=seed)\n",
    "    \n",
    "    #2\n",
    "    model = neighbors.KNeighborsClassifier(k)\n",
    "    model.fit(data_train,target_train)\n",
    "    #3\n",
    "    predicted = model.predict(data_test)\n",
    "    metrics = get_metrics(target_test,predicted,[0,1])\n",
    "    return metrics\n",
    "def knn_classifier_full(bunchobject, feature_list, size, seed):\n",
    "    data = bunchobject.data[:,feature_list]\n",
    "    target=bunchobject.target\n",
    "    data = normalize_minmax(data)\n",
    "    data_train, data_part2, target_train, target_part2 = train_test_split(data , target , test_size = size, random_state = seed )\n",
    "    data_valid, data_test, target_valid,target_test=train_test_split(data_part2 , target_part2 , test_size = 0.50, random_state =seed )\n",
    "    acc=[]\n",
    "    for i in range(1,21):\n",
    "        model = neighbors.KNeighborsClassifier(i)\n",
    "        model.fit(data_train,target_train)\n",
    "        predicted = model.predict(data_valid)\n",
    "        metrics = get_metrics(target_valid,predicted,[0,1])\n",
    "        acc.append(metrics['accuracy'])\n",
    "    max_acc = max(acc)\n",
    "    value = acc.index(max_acc)+1\n",
    "    model1 = neighbors.KNeighborsClassifier(value)\n",
    "    model1.fit(data_train,target_train)\n",
    "    predicted1 = model1.predict(data_valid)\n",
    "    predicted2 = model1.predict(data_test)\n",
    "    metrics1 = get_metrics(target_valid,predicted1,[0,1])\n",
    "    metrics2 = get_metrics(target_test,predicted2,[0,1])\n",
    "    out_result={}\n",
    "    out_result['best k']=value\n",
    "    out_result['validation set']=metrics1\n",
    "    out_result['test set']=metrics2\n",
    "    return out_result\n",
    "\n"
   ]
  },
  {
   "cell_type": "code",
   "execution_count": null,
   "metadata": {
    "collapsed": true
   },
   "outputs": [],
   "source": []
  }
 ],
 "metadata": {
  "kernelspec": {
   "display_name": "Python 3",
   "language": "python",
   "name": "python3"
  },
  "language_info": {
   "codemirror_mode": {
    "name": "ipython",
    "version": 3
   },
   "file_extension": ".py",
   "mimetype": "text/x-python",
   "name": "python",
   "nbconvert_exporter": "python",
   "pygments_lexer": "ipython3",
   "version": "3.6.3"
  }
 },
 "nbformat": 4,
 "nbformat_minor": 2
}
